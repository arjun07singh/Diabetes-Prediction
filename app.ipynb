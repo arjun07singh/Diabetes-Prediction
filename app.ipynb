{
  "nbformat": 4,
  "nbformat_minor": 0,
  "metadata": {
    "colab": {
      "provenance": []
    },
    "kernelspec": {
      "name": "python3",
      "display_name": "Python 3"
    },
    "language_info": {
      "name": "python"
    }
  },
  "cells": [
    {
      "cell_type": "code",
      "execution_count": 1,
      "metadata": {
        "colab": {
          "base_uri": "https://localhost:8080/"
        },
        "id": "JNAeaCiGr-5T",
        "outputId": "0c0b85ba-58f5-4c81-c2bc-6db0fd74ce14"
      },
      "outputs": [
        {
          "output_type": "stream",
          "name": "stdout",
          "text": [
            "\u001b[2K     \u001b[90m━━━━━━━━━━━━━━━━━━━━━━━━━━━━━━━━━━━━━━━━\u001b[0m \u001b[32m8.6/8.6 MB\u001b[0m \u001b[31m55.8 MB/s\u001b[0m eta \u001b[36m0:00:00\u001b[0m\n",
            "\u001b[2K     \u001b[90m━━━━━━━━━━━━━━━━━━━━━━━━━━━━━━━━━━━━━━━━\u001b[0m \u001b[32m207.3/207.3 kB\u001b[0m \u001b[31m25.1 MB/s\u001b[0m eta \u001b[36m0:00:00\u001b[0m\n",
            "\u001b[2K     \u001b[90m━━━━━━━━━━━━━━━━━━━━━━━━━━━━━━━━━━━━━━━━\u001b[0m \u001b[32m6.9/6.9 MB\u001b[0m \u001b[31m89.3 MB/s\u001b[0m eta \u001b[36m0:00:00\u001b[0m\n",
            "\u001b[2K     \u001b[90m━━━━━━━━━━━━━━━━━━━━━━━━━━━━━━━━━━━━━━━━\u001b[0m \u001b[32m83.0/83.0 kB\u001b[0m \u001b[31m11.6 MB/s\u001b[0m eta \u001b[36m0:00:00\u001b[0m\n",
            "\u001b[2K     \u001b[90m━━━━━━━━━━━━━━━━━━━━━━━━━━━━━━━━━━━━━━━━\u001b[0m \u001b[32m62.7/62.7 kB\u001b[0m \u001b[31m7.4 MB/s\u001b[0m eta \u001b[36m0:00:00\u001b[0m\n",
            "\u001b[?25h"
          ]
        }
      ],
      "source": [
        "!pip install -q streamlit"
      ]
    },
    {
      "cell_type": "code",
      "execution_count": 2,
      "metadata": {
        "id": "uYt9PxPpkYlJ",
        "colab": {
          "base_uri": "https://localhost:8080/"
        },
        "outputId": "f810b6c3-707d-412b-d0ca-4766bfcff23e"
      },
      "outputs": [
        {
          "output_type": "stream",
          "name": "stdout",
          "text": [
            "Writing app.py\n"
          ]
        }
      ],
      "source": [
        "%%writefile app.py\n",
        "import streamlit as st\n",
        "import pandas as pd\n",
        "from PIL import Image\n",
        "import numpy as np\n",
        "import matplotlib.pyplot as plt\n",
        "import plotly.figure_factory as ff\n",
        "from sklearn.metrics import accuracy_score\n",
        "from sklearn.ensemble import RandomForestClassifier\n",
        "from sklearn.model_selection import train_test_split\n",
        "import seaborn as sns\n",
        "\n",
        "\n",
        "\n",
        "df = pd.read_csv('/content/diabetes.csv')\n",
        "\n",
        "# HEADINGS\n",
        "st.title('Diabetes Prediction')\n",
        "st.sidebar.header('Patient Data')\n",
        "st.subheader('Training Data statistics')\n",
        "st.write(df.describe())\n",
        "\n",
        "\n",
        "# X AND Y DATA\n",
        "x = df.drop(['Outcome'], axis = 1)\n",
        "y = df.iloc[:, -1]\n",
        "x_train, x_test, y_train, y_test = train_test_split(x,y, test_size = 0.2, random_state = 0)\n",
        "\n",
        "\n",
        "# FUNCTION\n",
        "def user_report():\n",
        "  Pregnancies = st.sidebar.slider('Pregnancies', 0,17, 3 )\n",
        "  Glucose = st.sidebar.slider('Glucose', 0,200, 120 )\n",
        "  BloodPressure = st.sidebar.slider('Blood Pressure', 0,122, 70 )\n",
        "  SkinThickness = st.sidebar.slider('Skin Thickness', 0,100, 20 )\n",
        "  Insulin = st.sidebar.slider('Insulin', 0,846, 79 )\n",
        "  BMI = st.sidebar.slider('BMI', 0,67, 20 )\n",
        "  DiabetesPedigreeFunction = st.sidebar.slider('Diabetes Pedigree Function', 0.0,2.4, 0.47 )\n",
        "  Age = st.sidebar.slider('Age', 21,88, 33 )\n",
        "\n",
        "  user_report_data = {\n",
        "      'Pregnancies':Pregnancies,\n",
        "      'Glucose':Glucose,\n",
        "      'BloodPressure':BloodPressure,\n",
        "      'SkinThickness':SkinThickness,\n",
        "      'Insulin':Insulin,\n",
        "      'BMI':BMI,\n",
        "      'DiabetesPedigreeFunction':DiabetesPedigreeFunction,\n",
        "      'Age':Age\n",
        "  }\n",
        "  report_data = pd.DataFrame(user_report_data, index=[0])\n",
        "  return report_data\n",
        "\n",
        "\n",
        "\n",
        "\n",
        "# PATIENT DATA\n",
        "user_data = user_report()\n",
        "st.subheader('Patient Data')\n",
        "st.write(user_data)\n",
        "\n",
        "\n",
        "\n",
        "\n",
        "# MODEL\n",
        "rf  = RandomForestClassifier()\n",
        "rf.fit(x_train, y_train)\n",
        "user_result = rf.predict(user_data)\n",
        "\n",
        "\n",
        "\n",
        "# VISUALISATIONS\n",
        "st.title('Visualised Patient Report')\n",
        "\n",
        "\n",
        "\n",
        "# COLOR FUNCTION\n",
        "if user_result[0]==0:\n",
        "  color = 'green'\n",
        "else:\n",
        "  color = 'red'\n",
        "\n",
        "\n",
        "# Age vs Pregnancies\n",
        "st.header('Pregnancy count Graph (Others vs Yours)')\n",
        "fig_preg = plt.figure()\n",
        "ax1 = sns.scatterplot(x = 'Age', y = 'Pregnancies', data = df, hue = 'Outcome', palette = 'Greens')\n",
        "ax2 = sns.scatterplot(x = user_data['Age'], y = user_data['Pregnancies'], s = 150, color = color)\n",
        "plt.xticks(np.arange(10,100,5))\n",
        "plt.yticks(np.arange(0,20,2))\n",
        "plt.title('0 - Not Diabetic & 1 - Diabetic')\n",
        "st.pyplot(fig_preg)\n",
        "\n",
        "\n",
        "\n",
        "# Age vs Glucose\n",
        "st.header('Glucose Value Graph (Others vs Yours)')\n",
        "fig_Glucose = plt.figure()\n",
        "ax3 = sns.scatterplot(x = 'Age', y = 'Glucose', data = df, hue = 'Outcome' , palette='magma')\n",
        "ax4 = sns.scatterplot(x = user_data['Age'], y = user_data['Glucose'], s = 150, color = color)\n",
        "plt.xticks(np.arange(10,100,5))\n",
        "plt.yticks(np.arange(0,220,10))\n",
        "plt.title('0 - Not Diabetic & 1 - Diabetic')\n",
        "st.pyplot(fig_Glucose)\n",
        "\n",
        "\n",
        "\n",
        "# Age vs BloodPressure\n",
        "st.header('Blood Pressure Value Graph (Others vs Yours)')\n",
        "fig_BloodPressure = plt.figure()\n",
        "ax5 = sns.scatterplot(x = 'Age', y = 'BloodPressure', data = df, hue = 'Outcome', palette='Reds')\n",
        "ax6 = sns.scatterplot(x = user_data['Age'], y = user_data['BloodPressure'], s = 150, color = color)\n",
        "plt.xticks(np.arange(10,100,5))\n",
        "plt.yticks(np.arange(0,130,10))\n",
        "plt.title('0 - Not Diabetic & 1 - Diabetic')\n",
        "st.pyplot(fig_BloodPressure)\n",
        "\n",
        "\n",
        "# Age vs St\n",
        "st.header('Skin Thickness Value Graph (Others vs Yours)')\n",
        "fig_st = plt.figure()\n",
        "ax7 = sns.scatterplot(x = 'Age', y = 'SkinThickness', data = df, hue = 'Outcome', palette='Blues')\n",
        "ax8 = sns.scatterplot(x = user_data['Age'], y = user_data['SkinThickness'], s = 150, color = color)\n",
        "plt.xticks(np.arange(10,100,5))\n",
        "plt.yticks(np.arange(0,110,10))\n",
        "plt.title('0 - Not Diabetic & 1 - Diabetic')\n",
        "st.pyplot(fig_st)\n",
        "\n",
        "\n",
        "# Age vs Insulin\n",
        "st.header('Insulin Value Graph (Others vs Yours)')\n",
        "fig_i = plt.figure()\n",
        "ax9 = sns.scatterplot(x = 'Age', y = 'Insulin', data = df, hue = 'Outcome', palette='rocket')\n",
        "ax10 = sns.scatterplot(x = user_data['Age'], y = user_data['Insulin'], s = 150, color = color)\n",
        "plt.xticks(np.arange(10,100,5))\n",
        "plt.yticks(np.arange(0,900,50))\n",
        "plt.title('0 - Not Diabetic & 1 - Diabetic')\n",
        "st.pyplot(fig_i)\n",
        "\n",
        "\n",
        "# Age vs BMI\n",
        "st.header('BMI Value Graph (Others vs Yours)')\n",
        "fig_BMI = plt.figure()\n",
        "ax11 = sns.scatterplot(x = 'Age', y = 'BMI', data = df, hue = 'Outcome', palette='rainbow')\n",
        "ax12 = sns.scatterplot(x = user_data['Age'], y = user_data['BMI'], s = 150, color = color)\n",
        "plt.xticks(np.arange(10,100,5))\n",
        "plt.yticks(np.arange(0,70,5))\n",
        "plt.title('0 - Not Diabetic & 1 - Diabetic')\n",
        "st.pyplot(fig_BMI)\n",
        "\n",
        "\n",
        "# Age vs DiabetesPedigreeFunction\n",
        "st.header('DiabetesPedigreeFunction Value Graph (Others vs Yours)')\n",
        "fig_DiabetesPedigreeFunction = plt.figure()\n",
        "ax13 = sns.scatterplot(x = 'Age', y = 'DiabetesPedigreeFunction', data = df, hue = 'Outcome', palette='YlOrBr')\n",
        "ax14 = sns.scatterplot(x = user_data['Age'], y = user_data['DiabetesPedigreeFunction'], s = 150, color = color)\n",
        "plt.xticks(np.arange(10,100,5))\n",
        "plt.yticks(np.arange(0,3,0.2))\n",
        "plt.title('0 - Not Diabetic & 1 - Diabetic')\n",
        "st.pyplot(fig_DiabetesPedigreeFunction)\n",
        "\n",
        "\n",
        "\n",
        "# OUTPUT\n",
        "st.subheader('Your Report: ')\n",
        "output=''\n",
        "if user_result[0]==0:\n",
        "  output = 'You are not Diabetic.'\n",
        "else:\n",
        "  output = 'You are Diabetic.'\n",
        "st.title(output)\n",
        "st.subheader('Accuracy: ')\n",
        "st.write(str(accuracy_score(y_test, rf.predict(x_test))*100)+'%')"
      ]
    },
    {
      "cell_type": "code",
      "source": [
        "!npm install localtunnel"
      ],
      "metadata": {
        "colab": {
          "base_uri": "https://localhost:8080/"
        },
        "id": "4e278BpGvxWC",
        "outputId": "0636e0c6-edda-4c3f-fb94-c5c4f59c0c35"
      },
      "execution_count": 3,
      "outputs": [
        {
          "output_type": "stream",
          "name": "stdout",
          "text": [
            "\u001b[K\u001b[?25h\u001b[37;40mnpm\u001b[0m \u001b[0m\u001b[30;43mWARN\u001b[0m \u001b[0m\u001b[35msaveError\u001b[0m ENOENT: no such file or directory, open '/content/package.json'\n",
            "\u001b[0m\u001b[37;40mnpm\u001b[0m \u001b[0m\u001b[34;40mnotice\u001b[0m\u001b[35m\u001b[0m created a lockfile as package-lock.json. You should commit this file.\n",
            "\u001b[0m\u001b[37;40mnpm\u001b[0m \u001b[0m\u001b[30;43mWARN\u001b[0m \u001b[0m\u001b[35menoent\u001b[0m ENOENT: no such file or directory, open '/content/package.json'\n",
            "\u001b[0m\u001b[37;40mnpm\u001b[0m \u001b[0m\u001b[30;43mWARN\u001b[0m\u001b[35m\u001b[0m content No description\n",
            "\u001b[0m\u001b[37;40mnpm\u001b[0m \u001b[0m\u001b[30;43mWARN\u001b[0m\u001b[35m\u001b[0m content No repository field.\n",
            "\u001b[0m\u001b[37;40mnpm\u001b[0m \u001b[0m\u001b[30;43mWARN\u001b[0m\u001b[35m\u001b[0m content No README data\n",
            "\u001b[0m\u001b[37;40mnpm\u001b[0m \u001b[0m\u001b[30;43mWARN\u001b[0m\u001b[35m\u001b[0m content No license field.\n",
            "\u001b[0m\n",
            "+ localtunnel@2.0.2\n",
            "added 22 packages from 22 contributors and audited 22 packages in 2.41s\n",
            "\n",
            "3 packages are looking for funding\n",
            "  run `npm fund` for details\n",
            "\n",
            "found 1 \u001b[93mmoderate\u001b[0m severity vulnerability\n",
            "  run `npm audit fix` to fix them, or `npm audit` for details\n",
            "\u001b[K\u001b[?25h"
          ]
        }
      ]
    },
    {
      "cell_type": "code",
      "source": [
        "!streamlit run app.py & npx localtunnel --port 8501 & curl ipv4.icanhazip.com"
      ],
      "metadata": {
        "colab": {
          "base_uri": "https://localhost:8080/"
        },
        "id": "IPQ9s2y0uWZ7",
        "outputId": "62184845-b546-4753-d5bd-c5c593c1fd21"
      },
      "execution_count": 4,
      "outputs": [
        {
          "output_type": "stream",
          "name": "stdout",
          "text": [
            "34.125.114.128\n",
            "\n",
            "Collecting usage statistics. To deactivate, set browser.gatherUsageStats to false.\n",
            "\u001b[0m\n",
            "\u001b[0m\n",
            "\u001b[34m\u001b[1m  You can now view your Streamlit app in your browser.\u001b[0m\n",
            "\u001b[0m\n",
            "\u001b[34m  Local URL: \u001b[0m\u001b[1mhttp://localhost:8501\u001b[0m\n",
            "\u001b[34m  Network URL: \u001b[0m\u001b[1mhttp://172.28.0.12:8501\u001b[0m\n",
            "\u001b[34m  External URL: \u001b[0m\u001b[1mhttp://34.125.114.128:8501\u001b[0m\n",
            "\u001b[0m\n",
            "\u001b[K\u001b[?25hnpx: installed 22 in 2.963s\n",
            "your url is: https://soft-sites-accept.loca.lt\n",
            "\u001b[34m  Stopping...\u001b[0m\n"
          ]
        }
      ]
    }
  ]
}